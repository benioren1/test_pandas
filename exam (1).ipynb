{
 "cells": [
  {
   "metadata": {},
   "cell_type": "code",
   "outputs": [],
   "execution_count": null,
   "source": [],
   "id": "6a9e9f5945c1b169"
  },
  {
   "metadata": {},
   "cell_type": "markdown",
   "source": [
    "# Exercise: Exploratory Data Analysis with Pandas\n",
    "## Instructions\n",
    "1. Data Collection\n",
    "    - Search and collect data on the following: (1993 - 2023)\n",
    "        - Israel interest tares\n",
    "        - US interest rates\n",
    "        - USD to ILS exchange rates\n",
    "    - For each dataset, create a pandas DataFrame with the following columns:\n",
    "        - Year\n",
    "        - Month\n",
    "        - Current_Rate (Interest rate or exchange rate for that month)\n",
    "        - Change_From_Last_Month (Difference in Current_Rate from the previous month)\n",
    "        - Optional: You may include additional columns if you find them useful (e.g., Change_Percentage, Date).\n",
    "\n",
    "\n"
   ],
   "id": "2b8e938eb34b0315"
  },
  {
   "metadata": {},
   "cell_type": "code",
   "outputs": [],
   "execution_count": null,
   "source": [],
   "id": "17a7b132e53c5faa"
  },
  {
   "metadata": {
    "ExecuteTime": {
     "end_time": "2024-11-07T10:24:44.856097Z",
     "start_time": "2024-11-07T10:24:44.620291Z"
    }
   },
   "cell_type": "code",
   "outputs": [
    {
     "data": {
      "text/plain": "       year  month  OBS_VALUE  chang_between_months\n27     1994      6      11.50                   NaN\n57     1994      7      12.00                  0.50\n88     1994      8      12.50                  0.50\n119    1994      9      14.00                  1.50\n149    1994     10      15.50                  1.50\n...     ...    ...        ...                   ...\n10833  2024      1       4.75                  0.00\n10864  2024      2       4.50                 -0.25\n10893  2024      3       4.50                  0.00\n10924  2024      4       4.50                  0.00\n10954  2024      5       4.50                  0.00\n\n[360 rows x 4 columns]",
      "text/html": "<div>\n<style scoped>\n    .dataframe tbody tr th:only-of-type {\n        vertical-align: middle;\n    }\n\n    .dataframe tbody tr th {\n        vertical-align: top;\n    }\n\n    .dataframe thead th {\n        text-align: right;\n    }\n</style>\n<table border=\"1\" class=\"dataframe\">\n  <thead>\n    <tr style=\"text-align: right;\">\n      <th></th>\n      <th>year</th>\n      <th>month</th>\n      <th>OBS_VALUE</th>\n      <th>chang_between_months</th>\n    </tr>\n  </thead>\n  <tbody>\n    <tr>\n      <th>27</th>\n      <td>1994</td>\n      <td>6</td>\n      <td>11.50</td>\n      <td>NaN</td>\n    </tr>\n    <tr>\n      <th>57</th>\n      <td>1994</td>\n      <td>7</td>\n      <td>12.00</td>\n      <td>0.50</td>\n    </tr>\n    <tr>\n      <th>88</th>\n      <td>1994</td>\n      <td>8</td>\n      <td>12.50</td>\n      <td>0.50</td>\n    </tr>\n    <tr>\n      <th>119</th>\n      <td>1994</td>\n      <td>9</td>\n      <td>14.00</td>\n      <td>1.50</td>\n    </tr>\n    <tr>\n      <th>149</th>\n      <td>1994</td>\n      <td>10</td>\n      <td>15.50</td>\n      <td>1.50</td>\n    </tr>\n    <tr>\n      <th>...</th>\n      <td>...</td>\n      <td>...</td>\n      <td>...</td>\n      <td>...</td>\n    </tr>\n    <tr>\n      <th>10833</th>\n      <td>2024</td>\n      <td>1</td>\n      <td>4.75</td>\n      <td>0.00</td>\n    </tr>\n    <tr>\n      <th>10864</th>\n      <td>2024</td>\n      <td>2</td>\n      <td>4.50</td>\n      <td>-0.25</td>\n    </tr>\n    <tr>\n      <th>10893</th>\n      <td>2024</td>\n      <td>3</td>\n      <td>4.50</td>\n      <td>0.00</td>\n    </tr>\n    <tr>\n      <th>10924</th>\n      <td>2024</td>\n      <td>4</td>\n      <td>4.50</td>\n      <td>0.00</td>\n    </tr>\n    <tr>\n      <th>10954</th>\n      <td>2024</td>\n      <td>5</td>\n      <td>4.50</td>\n      <td>0.00</td>\n    </tr>\n  </tbody>\n</table>\n<p>360 rows × 4 columns</p>\n</div>"
     },
     "execution_count": 157,
     "metadata": {},
     "output_type": "execute_result"
    }
   ],
   "execution_count": 157,
   "source": [
    "# your code here\n",
    "import pandas as pd\n",
    "import numpy as np\n",
    "\n",
    "\n",
    "url_dolar_shekel = 'additional_rates_19930903_20241107_he_USD.csv' \n",
    "USD = pd.read_csv(url_dolar_shekel)\n",
    "\n",
    "\n",
    "url_ribit_israel = 'BR.csv'\n",
    "ribit = pd.read_csv(url_ribit_israel)\n",
    "\n",
    "\n",
    "url_ribit_usa = 'fed-funds-rate-historical-chart.csv'\n",
    "U_S_A_ribit = pd.read_csv(url_ribit_usa)\n",
    "\n",
    "USD[\"תאריך   \"] = pd.to_datetime(USD[\"תאריך   \"],errors=\"coerce\")\n",
    "last_usd = USD[USD[\"תאריך   \"].dt.day== 1]\n",
    "last_usd = last_usd.copy()  \n",
    "last_usd[\"year\"] = last_usd[\"תאריך   \"].dt.year\n",
    "last_usd[\"month\"] = last_usd[\"תאריך   \"].dt.month\n",
    "last_usd[\"chang_between_months\"] = last_usd[\"USD\"] - last_usd[\"USD\"].shift()\n",
    "last_usd = last_usd[[\"year\",\"month\",\"USD\",\"chang_between_months\"]]\n",
    "\n",
    "\n",
    "U_S_A_ribit[\"date\"] = pd.to_datetime(U_S_A_ribit[\"date\"],errors=\"coerce\")\n",
    "lastU_S_A_ribit = U_S_A_ribit[U_S_A_ribit[\"date\"].dt.day== 1]\n",
    "lastU_S_A_ribit = lastU_S_A_ribit.copy()  \n",
    "lastU_S_A_ribit[\"year\"] = lastU_S_A_ribit[\"date\"].dt.year\n",
    "lastU_S_A_ribit[\"month\"] = lastU_S_A_ribit[\"date\"].dt.month\n",
    "lastU_S_A_ribit[\"chang_between_months\"] = lastU_S_A_ribit[\" value\"] - lastU_S_A_ribit[\" value\"].shift()\n",
    "lastU_S_A_ribit = lastU_S_A_ribit[[\"year\",\"month\",\" value\",\"chang_between_months\"]]\n",
    "\n",
    "\n",
    "\n",
    "ribit[\"TIME_PERIOD\"] = pd.to_datetime(ribit[\"TIME_PERIOD\"],errors=\"coerce\")\n",
    "last_ribit = ribit[ribit[\"TIME_PERIOD\"].dt.day== 1]\n",
    "last_ribit = last_ribit.copy() \n",
    "last_ribit[\"year\"] = last_ribit[\"TIME_PERIOD\"].dt.year\n",
    "last_ribit[\"month\"] = last_ribit[\"TIME_PERIOD\"].dt.month\n",
    "last_ribit[\"chang_between_months\"] = last_ribit[\"OBS_VALUE\"] - last_ribit[\"OBS_VALUE\"].shift()\n",
    "last_ribit = last_ribit[[\"year\",\"month\",\"OBS_VALUE\",\"chang_between_months\"]]\n",
    "last_ribit\n",
    "\n",
    "lastU_S_A_ribit\n",
    "last_ribit"
   ],
   "id": "8fb38157aa6333f3"
  },
  {
   "metadata": {},
   "cell_type": "markdown",
   "source": [
    "## Part A: Single DataFrame Analysis \n",
    "1. Display the first 5 rows of the US interest rates DataFrame.\n",
    "\n",
    "2. Calculate the average Israeli interest rate over the period covered by your data.\n",
    "\n",
    "3. Find the month and year when the USD to ILS exchange rate had the highest increase from the previous month.\n",
    "\n",
    "4. Determine the total number of months where the US interest rate decreased compared to the previous month.\n",
    "\n",
    "5. Add a new column to the Israeli interest rates DataFrame called Change_Percentage, representing the percentage change from the previous month.\n",
    "\n"
   ],
   "id": "71323c7318598fbb"
  },
  {
   "metadata": {
    "ExecuteTime": {
     "end_time": "2024-11-07T08:54:47.438961Z",
     "start_time": "2024-11-07T08:54:47.422507Z"
    }
   },
   "cell_type": "code",
   "source": [
    "# A - 1\n",
    "# your code here\n",
    "lastU_S_A_ribit.head()"
   ],
   "id": "399887d7fba8803a",
   "outputs": [
    {
     "data": {
      "text/plain": "          date   value  year  month  chang_between_months\n0   1954-07-01    1.13  1954      7                   NaN\n31  1954-08-01    0.25  1954      8                 -0.88\n62  1954-09-01    1.44  1954      9                  1.19\n92  1954-10-01    0.50  1954     10                 -0.94\n123 1954-11-01    1.38  1954     11                  0.88",
      "text/html": "<div>\n<style scoped>\n    .dataframe tbody tr th:only-of-type {\n        vertical-align: middle;\n    }\n\n    .dataframe tbody tr th {\n        vertical-align: top;\n    }\n\n    .dataframe thead th {\n        text-align: right;\n    }\n</style>\n<table border=\"1\" class=\"dataframe\">\n  <thead>\n    <tr style=\"text-align: right;\">\n      <th></th>\n      <th>date</th>\n      <th>value</th>\n      <th>year</th>\n      <th>month</th>\n      <th>chang_between_months</th>\n    </tr>\n  </thead>\n  <tbody>\n    <tr>\n      <th>0</th>\n      <td>1954-07-01</td>\n      <td>1.13</td>\n      <td>1954</td>\n      <td>7</td>\n      <td>NaN</td>\n    </tr>\n    <tr>\n      <th>31</th>\n      <td>1954-08-01</td>\n      <td>0.25</td>\n      <td>1954</td>\n      <td>8</td>\n      <td>-0.88</td>\n    </tr>\n    <tr>\n      <th>62</th>\n      <td>1954-09-01</td>\n      <td>1.44</td>\n      <td>1954</td>\n      <td>9</td>\n      <td>1.19</td>\n    </tr>\n    <tr>\n      <th>92</th>\n      <td>1954-10-01</td>\n      <td>0.50</td>\n      <td>1954</td>\n      <td>10</td>\n      <td>-0.94</td>\n    </tr>\n    <tr>\n      <th>123</th>\n      <td>1954-11-01</td>\n      <td>1.38</td>\n      <td>1954</td>\n      <td>11</td>\n      <td>0.88</td>\n    </tr>\n  </tbody>\n</table>\n</div>"
     },
     "execution_count": 70,
     "metadata": {},
     "output_type": "execute_result"
    }
   ],
   "execution_count": 70
  },
  {
   "metadata": {
    "ExecuteTime": {
     "end_time": "2024-11-07T08:55:42.461757Z",
     "start_time": "2024-11-07T08:55:42.450206Z"
    }
   },
   "cell_type": "code",
   "source": [
    "# A - 2\n",
    "# your code here\n",
    "\n",
    "last_ribit[\"OBS_VALUE\"].mean()"
   ],
   "id": "91d022cc344514de",
   "outputs": [
    {
     "data": {
      "text/plain": "np.float64(4.812083333333333)"
     },
     "execution_count": 71,
     "metadata": {},
     "output_type": "execute_result"
    }
   ],
   "execution_count": 71
  },
  {
   "metadata": {
    "ExecuteTime": {
     "end_time": "2024-11-07T08:59:52.526863Z",
     "start_time": "2024-11-07T08:59:52.513553Z"
    }
   },
   "cell_type": "code",
   "source": [
    "# A - 3\n",
    "# your code here\n",
    "\n",
    "max_change = last_usd[\"chang_between_months\"].max()\n",
    "year_month = last_usd.loc[last_usd[\"chang_between_months\"] == max_change]\n",
    "year_month[[\"year\",\"month\"]]"
   ],
   "id": "c29c363cd4e9a279",
   "outputs": [
    {
     "data": {
      "text/plain": "      year  month\n4605  2006     12",
      "text/html": "<div>\n<style scoped>\n    .dataframe tbody tr th:only-of-type {\n        vertical-align: middle;\n    }\n\n    .dataframe tbody tr th {\n        vertical-align: top;\n    }\n\n    .dataframe thead th {\n        text-align: right;\n    }\n</style>\n<table border=\"1\" class=\"dataframe\">\n  <thead>\n    <tr style=\"text-align: right;\">\n      <th></th>\n      <th>year</th>\n      <th>month</th>\n    </tr>\n  </thead>\n  <tbody>\n    <tr>\n      <th>4605</th>\n      <td>2006</td>\n      <td>12</td>\n    </tr>\n  </tbody>\n</table>\n</div>"
     },
     "execution_count": 78,
     "metadata": {},
     "output_type": "execute_result"
    }
   ],
   "execution_count": 78
  },
  {
   "metadata": {
    "ExecuteTime": {
     "end_time": "2024-11-07T09:01:49.824439Z",
     "start_time": "2024-11-07T09:01:49.811633Z"
    }
   },
   "cell_type": "code",
   "source": [
    "# A - 4\n",
    "# your code here\n",
    "\n",
    "lost_mony = lastU_S_A_ribit.loc[lastU_S_A_ribit[\"chang_between_months\"]<0]\n",
    "lost_mony.count()"
   ],
   "id": "c4c8ec122d04672",
   "outputs": [
    {
     "data": {
      "text/plain": "date                    319\n value                  319\nyear                    319\nmonth                   319\nchang_between_months    319\ndtype: int64"
     },
     "execution_count": 82,
     "metadata": {},
     "output_type": "execute_result"
    }
   ],
   "execution_count": 82
  },
  {
   "metadata": {
    "ExecuteTime": {
     "end_time": "2024-11-07T09:33:42.165120Z",
     "start_time": "2024-11-07T09:33:42.141365Z"
    }
   },
   "cell_type": "code",
   "outputs": [
    {
     "data": {
      "text/plain": "    TIME_PERIOD  year  month  OBS_VALUE  chang_between_months  \\\n27   1994-06-01  1994      6       11.5                   NaN   \n57   1994-07-01  1994      7       12.0                   0.5   \n88   1994-08-01  1994      8       12.5                   0.5   \n119  1994-09-01  1994      9       14.0                   1.5   \n149  1994-10-01  1994     10       15.5                   1.5   \n180  1994-11-01  1994     11       15.5                   0.0   \n210  1994-12-01  1994     12       17.0                   1.5   \n241  1995-01-01  1995      1       17.0                   0.0   \n272  1995-02-01  1995      2       17.0                   0.0   \n300  1995-03-01  1995      3       16.3                  -0.7   \n331  1995-04-01  1995      4       14.8                  -1.5   \n361  1995-05-01  1995      5       14.0                  -0.8   \n392  1995-06-01  1995      6       13.5                  -0.5   \n422  1995-07-01  1995      7       13.5                   0.0   \n453  1995-08-01  1995      8       13.2                  -0.3   \n484  1995-09-01  1995      9       13.2                   0.0   \n514  1995-10-01  1995     10       13.7                   0.5   \n545  1995-11-01  1995     11       14.2                   0.5   \n575  1995-12-01  1995     12       14.2                   0.0   \n606  1996-01-01  1996      1       13.7                  -0.5   \n637  1996-02-01  1996      2       14.0                   0.3   \n666  1996-03-01  1996      3       14.0                   0.0   \n697  1996-04-01  1996      4       14.0                   0.0   \n727  1996-05-01  1996      5       14.8                   0.8   \n758  1996-06-01  1996      6       15.5                   0.7   \n788  1996-07-01  1996      7       17.0                   1.5   \n819  1996-08-01  1996      8       16.3                  -0.7   \n850  1996-09-01  1996      9       15.8                  -0.5   \n880  1996-10-01  1996     10       15.5                  -0.3   \n911  1996-11-01  1996     11       15.2                  -0.3   \n\n     Change_Percentage  \n27                 NaN  \n57                 NaN  \n88            1.000000  \n119           3.000000  \n149           1.000000  \n180           0.000000  \n210                inf  \n241           0.000000  \n272                NaN  \n300               -inf  \n331           2.142857  \n361           0.533333  \n392           0.625000  \n422          -0.000000  \n453               -inf  \n484          -0.000000  \n514                inf  \n545           1.000000  \n575           0.000000  \n606               -inf  \n637          -0.600000  \n666           0.000000  \n697                NaN  \n727                inf  \n758           0.875000  \n788           2.142857  \n819          -0.466667  \n850           0.714286  \n880           0.600000  \n911           1.000000  ",
      "text/html": "<div>\n<style scoped>\n    .dataframe tbody tr th:only-of-type {\n        vertical-align: middle;\n    }\n\n    .dataframe tbody tr th {\n        vertical-align: top;\n    }\n\n    .dataframe thead th {\n        text-align: right;\n    }\n</style>\n<table border=\"1\" class=\"dataframe\">\n  <thead>\n    <tr style=\"text-align: right;\">\n      <th></th>\n      <th>TIME_PERIOD</th>\n      <th>year</th>\n      <th>month</th>\n      <th>OBS_VALUE</th>\n      <th>chang_between_months</th>\n      <th>Change_Percentage</th>\n    </tr>\n  </thead>\n  <tbody>\n    <tr>\n      <th>27</th>\n      <td>1994-06-01</td>\n      <td>1994</td>\n      <td>6</td>\n      <td>11.5</td>\n      <td>NaN</td>\n      <td>NaN</td>\n    </tr>\n    <tr>\n      <th>57</th>\n      <td>1994-07-01</td>\n      <td>1994</td>\n      <td>7</td>\n      <td>12.0</td>\n      <td>0.5</td>\n      <td>NaN</td>\n    </tr>\n    <tr>\n      <th>88</th>\n      <td>1994-08-01</td>\n      <td>1994</td>\n      <td>8</td>\n      <td>12.5</td>\n      <td>0.5</td>\n      <td>1.000000</td>\n    </tr>\n    <tr>\n      <th>119</th>\n      <td>1994-09-01</td>\n      <td>1994</td>\n      <td>9</td>\n      <td>14.0</td>\n      <td>1.5</td>\n      <td>3.000000</td>\n    </tr>\n    <tr>\n      <th>149</th>\n      <td>1994-10-01</td>\n      <td>1994</td>\n      <td>10</td>\n      <td>15.5</td>\n      <td>1.5</td>\n      <td>1.000000</td>\n    </tr>\n    <tr>\n      <th>180</th>\n      <td>1994-11-01</td>\n      <td>1994</td>\n      <td>11</td>\n      <td>15.5</td>\n      <td>0.0</td>\n      <td>0.000000</td>\n    </tr>\n    <tr>\n      <th>210</th>\n      <td>1994-12-01</td>\n      <td>1994</td>\n      <td>12</td>\n      <td>17.0</td>\n      <td>1.5</td>\n      <td>inf</td>\n    </tr>\n    <tr>\n      <th>241</th>\n      <td>1995-01-01</td>\n      <td>1995</td>\n      <td>1</td>\n      <td>17.0</td>\n      <td>0.0</td>\n      <td>0.000000</td>\n    </tr>\n    <tr>\n      <th>272</th>\n      <td>1995-02-01</td>\n      <td>1995</td>\n      <td>2</td>\n      <td>17.0</td>\n      <td>0.0</td>\n      <td>NaN</td>\n    </tr>\n    <tr>\n      <th>300</th>\n      <td>1995-03-01</td>\n      <td>1995</td>\n      <td>3</td>\n      <td>16.3</td>\n      <td>-0.7</td>\n      <td>-inf</td>\n    </tr>\n    <tr>\n      <th>331</th>\n      <td>1995-04-01</td>\n      <td>1995</td>\n      <td>4</td>\n      <td>14.8</td>\n      <td>-1.5</td>\n      <td>2.142857</td>\n    </tr>\n    <tr>\n      <th>361</th>\n      <td>1995-05-01</td>\n      <td>1995</td>\n      <td>5</td>\n      <td>14.0</td>\n      <td>-0.8</td>\n      <td>0.533333</td>\n    </tr>\n    <tr>\n      <th>392</th>\n      <td>1995-06-01</td>\n      <td>1995</td>\n      <td>6</td>\n      <td>13.5</td>\n      <td>-0.5</td>\n      <td>0.625000</td>\n    </tr>\n    <tr>\n      <th>422</th>\n      <td>1995-07-01</td>\n      <td>1995</td>\n      <td>7</td>\n      <td>13.5</td>\n      <td>0.0</td>\n      <td>-0.000000</td>\n    </tr>\n    <tr>\n      <th>453</th>\n      <td>1995-08-01</td>\n      <td>1995</td>\n      <td>8</td>\n      <td>13.2</td>\n      <td>-0.3</td>\n      <td>-inf</td>\n    </tr>\n    <tr>\n      <th>484</th>\n      <td>1995-09-01</td>\n      <td>1995</td>\n      <td>9</td>\n      <td>13.2</td>\n      <td>0.0</td>\n      <td>-0.000000</td>\n    </tr>\n    <tr>\n      <th>514</th>\n      <td>1995-10-01</td>\n      <td>1995</td>\n      <td>10</td>\n      <td>13.7</td>\n      <td>0.5</td>\n      <td>inf</td>\n    </tr>\n    <tr>\n      <th>545</th>\n      <td>1995-11-01</td>\n      <td>1995</td>\n      <td>11</td>\n      <td>14.2</td>\n      <td>0.5</td>\n      <td>1.000000</td>\n    </tr>\n    <tr>\n      <th>575</th>\n      <td>1995-12-01</td>\n      <td>1995</td>\n      <td>12</td>\n      <td>14.2</td>\n      <td>0.0</td>\n      <td>0.000000</td>\n    </tr>\n    <tr>\n      <th>606</th>\n      <td>1996-01-01</td>\n      <td>1996</td>\n      <td>1</td>\n      <td>13.7</td>\n      <td>-0.5</td>\n      <td>-inf</td>\n    </tr>\n    <tr>\n      <th>637</th>\n      <td>1996-02-01</td>\n      <td>1996</td>\n      <td>2</td>\n      <td>14.0</td>\n      <td>0.3</td>\n      <td>-0.600000</td>\n    </tr>\n    <tr>\n      <th>666</th>\n      <td>1996-03-01</td>\n      <td>1996</td>\n      <td>3</td>\n      <td>14.0</td>\n      <td>0.0</td>\n      <td>0.000000</td>\n    </tr>\n    <tr>\n      <th>697</th>\n      <td>1996-04-01</td>\n      <td>1996</td>\n      <td>4</td>\n      <td>14.0</td>\n      <td>0.0</td>\n      <td>NaN</td>\n    </tr>\n    <tr>\n      <th>727</th>\n      <td>1996-05-01</td>\n      <td>1996</td>\n      <td>5</td>\n      <td>14.8</td>\n      <td>0.8</td>\n      <td>inf</td>\n    </tr>\n    <tr>\n      <th>758</th>\n      <td>1996-06-01</td>\n      <td>1996</td>\n      <td>6</td>\n      <td>15.5</td>\n      <td>0.7</td>\n      <td>0.875000</td>\n    </tr>\n    <tr>\n      <th>788</th>\n      <td>1996-07-01</td>\n      <td>1996</td>\n      <td>7</td>\n      <td>17.0</td>\n      <td>1.5</td>\n      <td>2.142857</td>\n    </tr>\n    <tr>\n      <th>819</th>\n      <td>1996-08-01</td>\n      <td>1996</td>\n      <td>8</td>\n      <td>16.3</td>\n      <td>-0.7</td>\n      <td>-0.466667</td>\n    </tr>\n    <tr>\n      <th>850</th>\n      <td>1996-09-01</td>\n      <td>1996</td>\n      <td>9</td>\n      <td>15.8</td>\n      <td>-0.5</td>\n      <td>0.714286</td>\n    </tr>\n    <tr>\n      <th>880</th>\n      <td>1996-10-01</td>\n      <td>1996</td>\n      <td>10</td>\n      <td>15.5</td>\n      <td>-0.3</td>\n      <td>0.600000</td>\n    </tr>\n    <tr>\n      <th>911</th>\n      <td>1996-11-01</td>\n      <td>1996</td>\n      <td>11</td>\n      <td>15.2</td>\n      <td>-0.3</td>\n      <td>1.000000</td>\n    </tr>\n  </tbody>\n</table>\n</div>"
     },
     "execution_count": 117,
     "metadata": {},
     "output_type": "execute_result"
    }
   ],
   "execution_count": 117,
   "source": [
    "# A - 5\n",
    "# your code here\n",
    "\n",
    "last_ribit[\"Change_Percentage\"] = (last_ribit[\"chang_between_months\"]/last_ribit[\"chang_between_months\"].shift(1))\n",
    "last_ribit.head(30)"
   ],
   "id": "49115d5dbff52532"
  },
  {
   "metadata": {},
   "cell_type": "markdown",
   "source": [
    "## Part B: Merging DataFrames\n",
    "1. Merge the US and Israeli interest rates DataFrames on Year and Month.\n",
    "\n",
    "2. In the merged DataFrame, create a new column Rate_Difference that shows the difference between the Israeli and US interest rates for each month.\n",
    "\n",
    "3. Identify all months when the Israeli interest rate was at least 1% higher than the US interest rate - IH (Israeli Higher).\n",
    "Identify all months when the US interest rate was at least 1% higher than the Israeli interest rate - UH (US Higher).\n",
    "Identify all months when the interest rates were within 1% of each other - N (Near)\n",
    "make a new column called Rate_Comparison with the following values: IH, UH, or N.\n",
    "\n",
    "4. Merge the exchange rate DataFrame with the merged interest rates DataFrame.\n",
    "\n",
    "5. After merging all three DataFrames, find the correlation between the Rate_Difference and the Current_Rate of the exchange rate.\n",
    "hint: find the connection between the difference in interest rates and the exchange rates, use any method you think is appropriate.\n",
    "provide an explanation of the results (in Hebrew) - at least 2 rows of text + a proof of the connection(some output) you found.\n"
   ],
   "id": "37324394ba9e1454"
  },
  {
   "metadata": {
    "ExecuteTime": {
     "end_time": "2024-11-07T09:42:29.408235Z",
     "start_time": "2024-11-07T09:42:29.375427Z"
    }
   },
   "cell_type": "code",
   "source": [
    "# B - 1\n",
    "# your code here\n",
    "\n",
    "all_ribit = pd.merge(left=lastU_S_A_ribit, right=last_ribit, left_on=['year','month'], right_on=['year','month'])\n",
    "all_ribit"
   ],
   "id": "f6fcdba8d4d32d73",
   "outputs": [
    {
     "data": {
      "text/plain": "     year  month   value  chang_between_months_x  OBS_VALUE  \\\n0    1994      6    4.33                    0.60      11.50   \n1    1994      7    3.82                   -0.51      12.00   \n2    1994      8    4.34                    0.52      12.50   \n3    1994      9    4.76                    0.42      14.00   \n4    1994     10    5.44                    0.68      15.50   \n..    ...    ...     ...                     ...        ...   \n331  2023     12    5.33                    0.00       4.75   \n332  2024      2    5.33                    0.00       4.50   \n333  2024      3    5.33                    0.00       4.50   \n334  2024      4    5.33                    0.00       4.50   \n335  2024      5    5.33                    0.00       4.50   \n\n     chang_between_months_y  \n0                       NaN  \n1                      0.50  \n2                      0.50  \n3                      1.50  \n4                      1.50  \n..                      ...  \n331                    0.00  \n332                   -0.25  \n333                    0.00  \n334                    0.00  \n335                    0.00  \n\n[336 rows x 6 columns]",
      "text/html": "<div>\n<style scoped>\n    .dataframe tbody tr th:only-of-type {\n        vertical-align: middle;\n    }\n\n    .dataframe tbody tr th {\n        vertical-align: top;\n    }\n\n    .dataframe thead th {\n        text-align: right;\n    }\n</style>\n<table border=\"1\" class=\"dataframe\">\n  <thead>\n    <tr style=\"text-align: right;\">\n      <th></th>\n      <th>year</th>\n      <th>month</th>\n      <th>value</th>\n      <th>chang_between_months_x</th>\n      <th>OBS_VALUE</th>\n      <th>chang_between_months_y</th>\n    </tr>\n  </thead>\n  <tbody>\n    <tr>\n      <th>0</th>\n      <td>1994</td>\n      <td>6</td>\n      <td>4.33</td>\n      <td>0.60</td>\n      <td>11.50</td>\n      <td>NaN</td>\n    </tr>\n    <tr>\n      <th>1</th>\n      <td>1994</td>\n      <td>7</td>\n      <td>3.82</td>\n      <td>-0.51</td>\n      <td>12.00</td>\n      <td>0.50</td>\n    </tr>\n    <tr>\n      <th>2</th>\n      <td>1994</td>\n      <td>8</td>\n      <td>4.34</td>\n      <td>0.52</td>\n      <td>12.50</td>\n      <td>0.50</td>\n    </tr>\n    <tr>\n      <th>3</th>\n      <td>1994</td>\n      <td>9</td>\n      <td>4.76</td>\n      <td>0.42</td>\n      <td>14.00</td>\n      <td>1.50</td>\n    </tr>\n    <tr>\n      <th>4</th>\n      <td>1994</td>\n      <td>10</td>\n      <td>5.44</td>\n      <td>0.68</td>\n      <td>15.50</td>\n      <td>1.50</td>\n    </tr>\n    <tr>\n      <th>...</th>\n      <td>...</td>\n      <td>...</td>\n      <td>...</td>\n      <td>...</td>\n      <td>...</td>\n      <td>...</td>\n    </tr>\n    <tr>\n      <th>331</th>\n      <td>2023</td>\n      <td>12</td>\n      <td>5.33</td>\n      <td>0.00</td>\n      <td>4.75</td>\n      <td>0.00</td>\n    </tr>\n    <tr>\n      <th>332</th>\n      <td>2024</td>\n      <td>2</td>\n      <td>5.33</td>\n      <td>0.00</td>\n      <td>4.50</td>\n      <td>-0.25</td>\n    </tr>\n    <tr>\n      <th>333</th>\n      <td>2024</td>\n      <td>3</td>\n      <td>5.33</td>\n      <td>0.00</td>\n      <td>4.50</td>\n      <td>0.00</td>\n    </tr>\n    <tr>\n      <th>334</th>\n      <td>2024</td>\n      <td>4</td>\n      <td>5.33</td>\n      <td>0.00</td>\n      <td>4.50</td>\n      <td>0.00</td>\n    </tr>\n    <tr>\n      <th>335</th>\n      <td>2024</td>\n      <td>5</td>\n      <td>5.33</td>\n      <td>0.00</td>\n      <td>4.50</td>\n      <td>0.00</td>\n    </tr>\n  </tbody>\n</table>\n<p>336 rows × 6 columns</p>\n</div>"
     },
     "execution_count": 127,
     "metadata": {},
     "output_type": "execute_result"
    }
   ],
   "execution_count": 127
  },
  {
   "metadata": {
    "ExecuteTime": {
     "end_time": "2024-11-07T09:47:33.841313Z",
     "start_time": "2024-11-07T09:47:33.819319Z"
    }
   },
   "cell_type": "code",
   "source": [
    "# B - 2\n",
    "# your code here\n",
    "all_ribit[\"Rate_Difference\"] = abs(all_ribit[\" value\"] - all_ribit[\"OBS_VALUE\"].shift())\n",
    "all_ribit"
   ],
   "id": "7f18978fee56c6d6",
   "outputs": [
    {
     "data": {
      "text/plain": "     year  month   value  chang_between_months_x  OBS_VALUE  \\\n0    1994      6    4.33                    0.60      11.50   \n1    1994      7    3.82                   -0.51      12.00   \n2    1994      8    4.34                    0.52      12.50   \n3    1994      9    4.76                    0.42      14.00   \n4    1994     10    5.44                    0.68      15.50   \n..    ...    ...     ...                     ...        ...   \n331  2023     12    5.33                    0.00       4.75   \n332  2024      2    5.33                    0.00       4.50   \n333  2024      3    5.33                    0.00       4.50   \n334  2024      4    5.33                    0.00       4.50   \n335  2024      5    5.33                    0.00       4.50   \n\n     chang_between_months_y  Rate_Difference  \n0                       NaN              NaN  \n1                      0.50             7.68  \n2                      0.50             7.66  \n3                      1.50             7.74  \n4                      1.50             8.56  \n..                      ...              ...  \n331                    0.00             0.58  \n332                   -0.25             0.58  \n333                    0.00             0.83  \n334                    0.00             0.83  \n335                    0.00             0.83  \n\n[336 rows x 7 columns]",
      "text/html": "<div>\n<style scoped>\n    .dataframe tbody tr th:only-of-type {\n        vertical-align: middle;\n    }\n\n    .dataframe tbody tr th {\n        vertical-align: top;\n    }\n\n    .dataframe thead th {\n        text-align: right;\n    }\n</style>\n<table border=\"1\" class=\"dataframe\">\n  <thead>\n    <tr style=\"text-align: right;\">\n      <th></th>\n      <th>year</th>\n      <th>month</th>\n      <th>value</th>\n      <th>chang_between_months_x</th>\n      <th>OBS_VALUE</th>\n      <th>chang_between_months_y</th>\n      <th>Rate_Difference</th>\n    </tr>\n  </thead>\n  <tbody>\n    <tr>\n      <th>0</th>\n      <td>1994</td>\n      <td>6</td>\n      <td>4.33</td>\n      <td>0.60</td>\n      <td>11.50</td>\n      <td>NaN</td>\n      <td>NaN</td>\n    </tr>\n    <tr>\n      <th>1</th>\n      <td>1994</td>\n      <td>7</td>\n      <td>3.82</td>\n      <td>-0.51</td>\n      <td>12.00</td>\n      <td>0.50</td>\n      <td>7.68</td>\n    </tr>\n    <tr>\n      <th>2</th>\n      <td>1994</td>\n      <td>8</td>\n      <td>4.34</td>\n      <td>0.52</td>\n      <td>12.50</td>\n      <td>0.50</td>\n      <td>7.66</td>\n    </tr>\n    <tr>\n      <th>3</th>\n      <td>1994</td>\n      <td>9</td>\n      <td>4.76</td>\n      <td>0.42</td>\n      <td>14.00</td>\n      <td>1.50</td>\n      <td>7.74</td>\n    </tr>\n    <tr>\n      <th>4</th>\n      <td>1994</td>\n      <td>10</td>\n      <td>5.44</td>\n      <td>0.68</td>\n      <td>15.50</td>\n      <td>1.50</td>\n      <td>8.56</td>\n    </tr>\n    <tr>\n      <th>...</th>\n      <td>...</td>\n      <td>...</td>\n      <td>...</td>\n      <td>...</td>\n      <td>...</td>\n      <td>...</td>\n      <td>...</td>\n    </tr>\n    <tr>\n      <th>331</th>\n      <td>2023</td>\n      <td>12</td>\n      <td>5.33</td>\n      <td>0.00</td>\n      <td>4.75</td>\n      <td>0.00</td>\n      <td>0.58</td>\n    </tr>\n    <tr>\n      <th>332</th>\n      <td>2024</td>\n      <td>2</td>\n      <td>5.33</td>\n      <td>0.00</td>\n      <td>4.50</td>\n      <td>-0.25</td>\n      <td>0.58</td>\n    </tr>\n    <tr>\n      <th>333</th>\n      <td>2024</td>\n      <td>3</td>\n      <td>5.33</td>\n      <td>0.00</td>\n      <td>4.50</td>\n      <td>0.00</td>\n      <td>0.83</td>\n    </tr>\n    <tr>\n      <th>334</th>\n      <td>2024</td>\n      <td>4</td>\n      <td>5.33</td>\n      <td>0.00</td>\n      <td>4.50</td>\n      <td>0.00</td>\n      <td>0.83</td>\n    </tr>\n    <tr>\n      <th>335</th>\n      <td>2024</td>\n      <td>5</td>\n      <td>5.33</td>\n      <td>0.00</td>\n      <td>4.50</td>\n      <td>0.00</td>\n      <td>0.83</td>\n    </tr>\n  </tbody>\n</table>\n<p>336 rows × 7 columns</p>\n</div>"
     },
     "execution_count": 132,
     "metadata": {},
     "output_type": "execute_result"
    }
   ],
   "execution_count": 132
  },
  {
   "metadata": {
    "ExecuteTime": {
     "end_time": "2024-11-07T10:20:19.378071Z",
     "start_time": "2024-11-07T10:20:19.276478Z"
    }
   },
   "cell_type": "code",
   "source": [
    "# B - 3\n",
    "# your code here\n",
    "\n",
    "Israeli_Higher_1_percent = all_ribit.loc[((all_ribit[\"OBS_VALUE\"] - all_ribit[\" value\"]) / all_ribit[\" value\"]) * 100 >= 1]\n",
    "Israeli_Higher_1_percent.count()\n",
    "\n",
    "\n",
    "American_Higher_1_percent = all_ribit.loc[((all_ribit[\" value\"] - all_ribit[\"OBS_VALUE\"]) / all_ribit[\"OBS_VALUE\"]) * 100 >= 1]\n",
    "American_Higher_1_percent.count()\n",
    "\n",
    "between_0_1 = all_ribit.loc[(((all_ribit[\" value\"] - all_ribit[\"OBS_VALUE\"]) / all_ribit[\"OBS_VALUE\"]) * 100 <= 1) & (((all_ribit[\" value\"] - all_ribit[\"OBS_VALUE\"]) / all_ribit[\"OBS_VALUE\"]) * 100 >=0)]\n",
    "between_0_1.count()\n",
    "\n",
    "all_ribit[\"Rate_Comparison\"] = None\n",
    "for index, row in all_ribit.iterrows():\n",
    "    IL = row[\"OBS_VALUE\"]\n",
    "    USA = row[\" value\"] \n",
    "    if (USA - IL) / IL * 100 >= 1:\n",
    "        all_ribit.at[index, \"Rate_Comparison\"] = \"IL\"\n",
    "    elif (IL - USA) / USA * 100 >= 1:\n",
    "        all_ribit.at[index, \"Rate_Comparison\"] = \"UH\"\n",
    "    else:\n",
    "        all_ribit.at[index, \"Rate_Comparison\"] = \"N\"\n"
   ],
   "id": "c6dcf835650149bf",
   "outputs": [
    {
     "data": {
      "text/plain": "     year  month   value  chang_between_months_x  OBS_VALUE  \\\n0    1994      6    4.33                    0.60      11.50   \n1    1994      7    3.82                   -0.51      12.00   \n2    1994      8    4.34                    0.52      12.50   \n3    1994      9    4.76                    0.42      14.00   \n4    1994     10    5.44                    0.68      15.50   \n..    ...    ...     ...                     ...        ...   \n331  2023     12    5.33                    0.00       4.75   \n332  2024      2    5.33                    0.00       4.50   \n333  2024      3    5.33                    0.00       4.50   \n334  2024      4    5.33                    0.00       4.50   \n335  2024      5    5.33                    0.00       4.50   \n\n     chang_between_months_y  Rate_Difference Rate_Comparison  \n0                       NaN              NaN              UH  \n1                      0.50             7.68              UH  \n2                      0.50             7.66              UH  \n3                      1.50             7.74              UH  \n4                      1.50             8.56              UH  \n..                      ...              ...             ...  \n331                    0.00             0.58              IL  \n332                   -0.25             0.58              IL  \n333                    0.00             0.83              IL  \n334                    0.00             0.83              IL  \n335                    0.00             0.83              IL  \n\n[336 rows x 8 columns]",
      "text/html": "<div>\n<style scoped>\n    .dataframe tbody tr th:only-of-type {\n        vertical-align: middle;\n    }\n\n    .dataframe tbody tr th {\n        vertical-align: top;\n    }\n\n    .dataframe thead th {\n        text-align: right;\n    }\n</style>\n<table border=\"1\" class=\"dataframe\">\n  <thead>\n    <tr style=\"text-align: right;\">\n      <th></th>\n      <th>year</th>\n      <th>month</th>\n      <th>value</th>\n      <th>chang_between_months_x</th>\n      <th>OBS_VALUE</th>\n      <th>chang_between_months_y</th>\n      <th>Rate_Difference</th>\n      <th>Rate_Comparison</th>\n    </tr>\n  </thead>\n  <tbody>\n    <tr>\n      <th>0</th>\n      <td>1994</td>\n      <td>6</td>\n      <td>4.33</td>\n      <td>0.60</td>\n      <td>11.50</td>\n      <td>NaN</td>\n      <td>NaN</td>\n      <td>UH</td>\n    </tr>\n    <tr>\n      <th>1</th>\n      <td>1994</td>\n      <td>7</td>\n      <td>3.82</td>\n      <td>-0.51</td>\n      <td>12.00</td>\n      <td>0.50</td>\n      <td>7.68</td>\n      <td>UH</td>\n    </tr>\n    <tr>\n      <th>2</th>\n      <td>1994</td>\n      <td>8</td>\n      <td>4.34</td>\n      <td>0.52</td>\n      <td>12.50</td>\n      <td>0.50</td>\n      <td>7.66</td>\n      <td>UH</td>\n    </tr>\n    <tr>\n      <th>3</th>\n      <td>1994</td>\n      <td>9</td>\n      <td>4.76</td>\n      <td>0.42</td>\n      <td>14.00</td>\n      <td>1.50</td>\n      <td>7.74</td>\n      <td>UH</td>\n    </tr>\n    <tr>\n      <th>4</th>\n      <td>1994</td>\n      <td>10</td>\n      <td>5.44</td>\n      <td>0.68</td>\n      <td>15.50</td>\n      <td>1.50</td>\n      <td>8.56</td>\n      <td>UH</td>\n    </tr>\n    <tr>\n      <th>...</th>\n      <td>...</td>\n      <td>...</td>\n      <td>...</td>\n      <td>...</td>\n      <td>...</td>\n      <td>...</td>\n      <td>...</td>\n      <td>...</td>\n    </tr>\n    <tr>\n      <th>331</th>\n      <td>2023</td>\n      <td>12</td>\n      <td>5.33</td>\n      <td>0.00</td>\n      <td>4.75</td>\n      <td>0.00</td>\n      <td>0.58</td>\n      <td>IL</td>\n    </tr>\n    <tr>\n      <th>332</th>\n      <td>2024</td>\n      <td>2</td>\n      <td>5.33</td>\n      <td>0.00</td>\n      <td>4.50</td>\n      <td>-0.25</td>\n      <td>0.58</td>\n      <td>IL</td>\n    </tr>\n    <tr>\n      <th>333</th>\n      <td>2024</td>\n      <td>3</td>\n      <td>5.33</td>\n      <td>0.00</td>\n      <td>4.50</td>\n      <td>0.00</td>\n      <td>0.83</td>\n      <td>IL</td>\n    </tr>\n    <tr>\n      <th>334</th>\n      <td>2024</td>\n      <td>4</td>\n      <td>5.33</td>\n      <td>0.00</td>\n      <td>4.50</td>\n      <td>0.00</td>\n      <td>0.83</td>\n      <td>IL</td>\n    </tr>\n    <tr>\n      <th>335</th>\n      <td>2024</td>\n      <td>5</td>\n      <td>5.33</td>\n      <td>0.00</td>\n      <td>4.50</td>\n      <td>0.00</td>\n      <td>0.83</td>\n      <td>IL</td>\n    </tr>\n  </tbody>\n</table>\n<p>336 rows × 8 columns</p>\n</div>"
     },
     "execution_count": 152,
     "metadata": {},
     "output_type": "execute_result"
    }
   ],
   "execution_count": 152
  },
  {
   "metadata": {
    "ExecuteTime": {
     "end_time": "2024-11-07T10:40:18.297597Z",
     "start_time": "2024-11-07T10:40:18.251129Z"
    }
   },
   "cell_type": "code",
   "source": [
    "# B - 4\n",
    "# your code here\n",
    "\n",
    "USD_AND_RIBIT = pd.merge(left=all_ribit, right=last_usd, left_on=['year','month'], right_on=['year','month'])\n",
    "USD_AND_RIBIT"
   ],
   "id": "3145d351d7cbe982",
   "outputs": [
    {
     "data": {
      "text/plain": "     year  month   value  chang_between_months_x  OBS_VALUE  \\\n0    1994      6    4.33                    0.60      11.50   \n1    1994      7    3.82                   -0.51      12.00   \n2    1994      9    4.76                    0.42      14.00   \n3    1994     10    5.44                    0.68      15.50   \n4    1994     11    4.76                   -0.68      15.50   \n..    ...    ...     ...                     ...        ...   \n221  2023     12    5.33                    0.00       4.75   \n222  2024      2    5.33                    0.00       4.50   \n223  2024      3    5.33                    0.00       4.50   \n224  2024      4    5.33                    0.00       4.50   \n225  2024      5    5.33                    0.00       4.50   \n\n     chang_between_months_y  Rate_Difference Rate_Comparison    USD  \\\n0                       NaN              NaN              UH  2.987   \n1                      0.50             7.68              UH  2.987   \n2                      1.50             7.74              UH  2.987   \n3                      1.50             8.56              UH  2.979   \n4                      0.00            10.74              UH  2.986   \n..                      ...              ...             ...    ...   \n221                    0.00             0.58              IL  3.429   \n222                   -0.25             0.58              IL  3.618   \n223                    0.00             0.83              IL  3.647   \n224                    0.00             0.83              IL  3.648   \n225                    0.00             0.83              IL  3.656   \n\n     chang_between_months  \n0                   0.000  \n1                   0.000  \n2                   0.008  \n3                  -0.007  \n4                   0.004  \n..                    ...  \n221                -0.189  \n222                -0.029  \n223                -0.001  \n224                -0.008  \n225                -0.062  \n\n[226 rows x 10 columns]",
      "text/html": "<div>\n<style scoped>\n    .dataframe tbody tr th:only-of-type {\n        vertical-align: middle;\n    }\n\n    .dataframe tbody tr th {\n        vertical-align: top;\n    }\n\n    .dataframe thead th {\n        text-align: right;\n    }\n</style>\n<table border=\"1\" class=\"dataframe\">\n  <thead>\n    <tr style=\"text-align: right;\">\n      <th></th>\n      <th>year</th>\n      <th>month</th>\n      <th>value</th>\n      <th>chang_between_months_x</th>\n      <th>OBS_VALUE</th>\n      <th>chang_between_months_y</th>\n      <th>Rate_Difference</th>\n      <th>Rate_Comparison</th>\n      <th>USD</th>\n      <th>chang_between_months</th>\n    </tr>\n  </thead>\n  <tbody>\n    <tr>\n      <th>0</th>\n      <td>1994</td>\n      <td>6</td>\n      <td>4.33</td>\n      <td>0.60</td>\n      <td>11.50</td>\n      <td>NaN</td>\n      <td>NaN</td>\n      <td>UH</td>\n      <td>2.987</td>\n      <td>0.000</td>\n    </tr>\n    <tr>\n      <th>1</th>\n      <td>1994</td>\n      <td>7</td>\n      <td>3.82</td>\n      <td>-0.51</td>\n      <td>12.00</td>\n      <td>0.50</td>\n      <td>7.68</td>\n      <td>UH</td>\n      <td>2.987</td>\n      <td>0.000</td>\n    </tr>\n    <tr>\n      <th>2</th>\n      <td>1994</td>\n      <td>9</td>\n      <td>4.76</td>\n      <td>0.42</td>\n      <td>14.00</td>\n      <td>1.50</td>\n      <td>7.74</td>\n      <td>UH</td>\n      <td>2.987</td>\n      <td>0.008</td>\n    </tr>\n    <tr>\n      <th>3</th>\n      <td>1994</td>\n      <td>10</td>\n      <td>5.44</td>\n      <td>0.68</td>\n      <td>15.50</td>\n      <td>1.50</td>\n      <td>8.56</td>\n      <td>UH</td>\n      <td>2.979</td>\n      <td>-0.007</td>\n    </tr>\n    <tr>\n      <th>4</th>\n      <td>1994</td>\n      <td>11</td>\n      <td>4.76</td>\n      <td>-0.68</td>\n      <td>15.50</td>\n      <td>0.00</td>\n      <td>10.74</td>\n      <td>UH</td>\n      <td>2.986</td>\n      <td>0.004</td>\n    </tr>\n    <tr>\n      <th>...</th>\n      <td>...</td>\n      <td>...</td>\n      <td>...</td>\n      <td>...</td>\n      <td>...</td>\n      <td>...</td>\n      <td>...</td>\n      <td>...</td>\n      <td>...</td>\n      <td>...</td>\n    </tr>\n    <tr>\n      <th>221</th>\n      <td>2023</td>\n      <td>12</td>\n      <td>5.33</td>\n      <td>0.00</td>\n      <td>4.75</td>\n      <td>0.00</td>\n      <td>0.58</td>\n      <td>IL</td>\n      <td>3.429</td>\n      <td>-0.189</td>\n    </tr>\n    <tr>\n      <th>222</th>\n      <td>2024</td>\n      <td>2</td>\n      <td>5.33</td>\n      <td>0.00</td>\n      <td>4.50</td>\n      <td>-0.25</td>\n      <td>0.58</td>\n      <td>IL</td>\n      <td>3.618</td>\n      <td>-0.029</td>\n    </tr>\n    <tr>\n      <th>223</th>\n      <td>2024</td>\n      <td>3</td>\n      <td>5.33</td>\n      <td>0.00</td>\n      <td>4.50</td>\n      <td>0.00</td>\n      <td>0.83</td>\n      <td>IL</td>\n      <td>3.647</td>\n      <td>-0.001</td>\n    </tr>\n    <tr>\n      <th>224</th>\n      <td>2024</td>\n      <td>4</td>\n      <td>5.33</td>\n      <td>0.00</td>\n      <td>4.50</td>\n      <td>0.00</td>\n      <td>0.83</td>\n      <td>IL</td>\n      <td>3.648</td>\n      <td>-0.008</td>\n    </tr>\n    <tr>\n      <th>225</th>\n      <td>2024</td>\n      <td>5</td>\n      <td>5.33</td>\n      <td>0.00</td>\n      <td>4.50</td>\n      <td>0.00</td>\n      <td>0.83</td>\n      <td>IL</td>\n      <td>3.656</td>\n      <td>-0.062</td>\n    </tr>\n  </tbody>\n</table>\n<p>226 rows × 10 columns</p>\n</div>"
     },
     "execution_count": 161,
     "metadata": {},
     "output_type": "execute_result"
    }
   ],
   "execution_count": 161
  },
  {
   "metadata": {
    "ExecuteTime": {
     "end_time": "2024-11-07T11:08:07.759370Z",
     "start_time": "2024-11-07T11:08:07.434506Z"
    }
   },
   "cell_type": "code",
   "source": [
    "# B - 5\n",
    "# your code here\n",
    "import matplotlib.pyplot as plt\n",
    "israeli_ribit = []\n",
    "american_ribit = []\n",
    "ratee =[]\n",
    "usd = []\n",
    "\n",
    "for index, row in USD_AND_RIBIT.iterrows():\n",
    "    # israeli_ribit.append(row[\"OBS_VALUE\"])\n",
    "    # american_ribit.append(row[\" value\"])\n",
    "    ratee.append(row[\"Rate_Difference\"])\n",
    "    usd.append(row[\"USD\"])\n",
    "    \n",
    "plt.figure(figsize=(10,5))\n",
    "\n",
    "plt.scatter(usd,ratee)\n",
    "plt.title(\"The relationship between the interest rate difference and the dollar rate\")\n",
    "plt.xlabel(\"USD\")\n",
    "plt.ylabel(\"Rate_Difference\")\n",
    "\n",
    "plt.show()\n"
   ],
   "id": "fe04eba74c68ab35",
   "outputs": [
    {
     "data": {
      "text/plain": "<Figure size 1000x500 with 1 Axes>",
      "image/png": "[encoded data removed]"
     },
     "metadata": {},
     "output_type": "display_data"
    }
   ],
   "execution_count": 184
  },
  {
   "metadata": {
    "ExecuteTime": {
     "end_time": "2024-11-07T11:03:27.245552Z",
     "start_time": "2024-11-07T11:03:27.224089Z"
    }
   },
   "cell_type": "code",
   "outputs": [
    {
     "data": {
      "text/plain": "                    value  OBS_VALUE  Rate_Difference       USD\n value           1.000000   0.778894         0.514374 -0.118233\nOBS_VALUE        0.778894   1.000000         0.907100 -0.245967\nRate_Difference  0.514374   0.907100         1.000000 -0.313368\nUSD             -0.118233  -0.245967        -0.313368  1.000000",
      "text/html": "<div>\n<style scoped>\n    .dataframe tbody tr th:only-of-type {\n        vertical-align: middle;\n    }\n\n    .dataframe tbody tr th {\n        vertical-align: top;\n    }\n\n    .dataframe thead th {\n        text-align: right;\n    }\n</style>\n<table border=\"1\" class=\"dataframe\">\n  <thead>\n    <tr style=\"text-align: right;\">\n      <th></th>\n      <th>value</th>\n      <th>OBS_VALUE</th>\n      <th>Rate_Difference</th>\n      <th>USD</th>\n    </tr>\n  </thead>\n  <tbody>\n    <tr>\n      <th>value</th>\n      <td>1.000000</td>\n      <td>0.778894</td>\n      <td>0.514374</td>\n      <td>-0.118233</td>\n    </tr>\n    <tr>\n      <th>OBS_VALUE</th>\n      <td>0.778894</td>\n      <td>1.000000</td>\n      <td>0.907100</td>\n      <td>-0.245967</td>\n    </tr>\n    <tr>\n      <th>Rate_Difference</th>\n      <td>0.514374</td>\n      <td>0.907100</td>\n      <td>1.000000</td>\n      <td>-0.313368</td>\n    </tr>\n    <tr>\n      <th>USD</th>\n      <td>-0.118233</td>\n      <td>-0.245967</td>\n      <td>-0.313368</td>\n      <td>1.000000</td>\n    </tr>\n  </tbody>\n</table>\n</div>"
     },
     "execution_count": 182,
     "metadata": {},
     "output_type": "execute_result"
    }
   ],
   "execution_count": 182,
   "source": [
    "USD_AND_RIBIT_2 = USD_AND_RIBIT.copy()\n",
    "\n",
    "a = USD_AND_RIBIT_2.drop([\"Rate_Comparison\",\"month\",\"year\",\"chang_between_months_x\",\"chang_between_months\",\"chang_between_months_y\"], axis=1)\n",
    "\n",
    "a.corr()"
   ],
   "id": "48d876ac1bc8092"
  },
  {
   "metadata": {},
   "cell_type": "markdown",
   "source": [
    "## Part C: Analyzing Relationships Between DataFrames\n",
    "1. Analyze whether increases in US interest rates are associated with increases or decreases in the USD to ILS exchange rate in the same month.\n",
    "\n",
    "2. Determine if changes in the Israeli interest rate have a stronger impact on the exchange rate than changes in the US interest rate.\n",
    "\n",
    "3. Find any time lags in the effect of interest rate changes on the exchange rate. For example, does a change in US interest rates affect the exchange rate in the following month?\n",
    "(כלומר- האם כשיש שינוי בריבית כלשהי - האם מייד יש שינוי בשער ההמרה? או שיש דיליי של חודש/חודשים עד שמרגישים את ההשפעה - אם בכלל?)\n",
    "\n",
    "4. Calculate the rolling past 3-month average of the exchange rate for each data time, and add it as a new column.\n",
    "\n",
    "5. Identify any periods where both US and Israeli interest rates were decreasing, and analyze how the exchange rate behaved during those periods.\n",
    "\n"
   ],
   "id": "22213f81bdf06965"
  },
  {
   "metadata": {},
   "cell_type": "code",
   "outputs": [],
   "execution_count": null,
   "source": [
    "# Bonus "
   ],
   "id": "706a690fd803211c"
  },
  {
   "metadata": {},
   "cell_type": "markdown",
   "source": [
    "# Bonus\n",
    "choose 3 global / local events or periods that you think could have affected the exchange rate or interest rates\n",
    "and analyze the effect of these events on the data you collected.\n",
    "show proof of your analysis that supports your claim.\n",
    "\n",
    "(כלומר- תבחנו אירועים שקרו בתקופה שאתם עובדים עליה ובדקו איך הם השפיעו על הנתונים שאתם עובדים איתם)\n",
    "למשל: בחירות בארה״ב, בחירות בישראל, רוסיה אוקראינה, מלחמות בישראל וכו׳."
   ],
   "id": "8be22debf92d8f3a"
  },
  {
   "metadata": {},
   "cell_type": "code",
   "outputs": [],
   "execution_count": null,
   "source": [
    "# Your code here"
   ],
   "id": "7cd992b43f3700e8"
  }
 ],
 "metadata": {
  "kernelspec": {
   "display_name": "Python 3",
   "language": "python",
   "name": "python3"
  },
  "language_info": {
   "codemirror_mode": {
    "name": "ipython",
    "version": 2
   },
   "file_extension": ".py",
   "mimetype": "text/x-python",
   "name": "python",
   "nbconvert_exporter": "python",
   "pygments_lexer": "ipython2",
   "version": "2.7.6"
  }
 },
 "nbformat": 4,
 "nbformat_minor": 5
}
